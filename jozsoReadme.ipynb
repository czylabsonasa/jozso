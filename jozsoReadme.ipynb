{
 "cells": [
  {
   "cell_type": "markdown",
   "metadata": {},
   "source": [
    "# READ.ME\n",
    "**JOZSO**: a program for calculating broad neutron resonances"
   ]
  },
  {
   "cell_type": "markdown",
   "metadata": {},
   "source": [
    "## Prerequisites:\n",
    "* GNU gfortran compiler and GNU make\n",
    "* *optionally* GNU octave\n",
    "\n",
    "These are fairly standard packages/programs available on all major Linux distribitions."
   ]
  },
  {
   "cell_type": "markdown",
   "metadata": {},
   "source": [
    "## Installation\n",
    "* simply extract the supplied zip file to a desired location"
   ]
  },
  {
   "cell_type": "markdown",
   "metadata": {},
   "source": [
    "## Directory structure\n",
    "```\n",
    "JOZSO\n",
    "│\n",
    "├── dat\n",
    "│   ├────  extformfb.dat\n",
    "│   └────  extformf.dat\n",
    "│\n",
    "├── log\n",
    "│   └────  jozso.log\n",
    "│\n",
    "├── obj\n",
    "│   ├────  filedesc.mod\n",
    "│   ├────  globals.mod\n",
    "│   ├────  iorut.mod\n",
    "│   └────  potdesc.mod\n",
    "│\n",
    "├── res\n",
    "│   ├────  jozso.res\n",
    "│   ├────  ktraj.dat\n",
    "│   ├────  map.dat\n",
    "│   ├────  maprajz.m\n",
    "│   ├────  peaks.dat\n",
    "│   ├────  pltraj.dat\n",
    "│   ├────  poles.dat\n",
    "│   ├────  srtpoles.dat\n",
    "│   ├────  trajz.m\n",
    "│   └────  wf.dat\n",
    "│\n",
    "├── src\n",
    "│   ├──── jozso.f90\n",
    "│   └────  odeint.f90\n",
    "│\n",
    "├──── cgws.config\n",
    "├──── cgwsFe.config\n",
    "├──── cgwsold.config\n",
    "├──── cgwsPb.config\n",
    "├──── dev.config\n",
    "├──── ext.config\n",
    "├──── jozso\n",
    "├──── makefile\n",
    "├──── sahu.config\n",
    "└──── user.config\n",
    "```"
   ]
  },
  {
   "cell_type": "markdown",
   "metadata": {},
   "source": [
    "## Config files\n",
    "According to the used potential type, the program's behaviour can be controlled through the following config files:\n",
    "* cgws.conf\n",
    "* sahu.conf\n",
    "* ext.conf\n",
    "\n",
    "The other ones used for developing and customizing the program:\n",
    "* user.conf\n",
    "* dev.conf"
   ]
  },
  {
   "cell_type": "markdown",
   "metadata": {},
   "source": [
    "## Compiling\n",
    "\n",
    "In the *JOZSO* directory issue the following commands:\n",
    "```shell\n",
    "make clean; make\n",
    "```\n",
    "You should not get any errors (warnings are possible, due to different gfortran configurations).\n"
   ]
  },
  {
   "cell_type": "markdown",
   "metadata": {},
   "source": [
    "## Executing\n",
    "In the *JOZSO* directory issue:\n",
    "```\n",
    "./jozso\n",
    "```\n",
    "\n",
    "optional parameter can be passed to the program:\n",
    "* -h for getting a short help message\n",
    "* -1 *or* -cgws for chosing Wood-Saxon potential\n",
    "* -2 *or* -sahu for Sahu-type potential\n",
    "* -4 *or* -ext for external, custom potential"
   ]
  },
  {
   "cell_type": "code",
   "execution_count": null,
   "metadata": {},
   "outputs": [],
   "source": []
  }
 ],
 "metadata": {
  "kernelspec": {
   "display_name": "Python 3",
   "language": "python",
   "name": "python3"
  },
  "language_info": {
   "codemirror_mode": {
    "name": "ipython",
    "version": 3
   },
   "file_extension": ".py",
   "mimetype": "text/x-python",
   "name": "python",
   "nbconvert_exporter": "python",
   "pygments_lexer": "ipython3",
   "version": "3.5.3"
  }
 },
 "nbformat": 4,
 "nbformat_minor": 2
}
