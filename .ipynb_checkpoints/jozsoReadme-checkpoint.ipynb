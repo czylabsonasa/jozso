{
 "cells": [
  {
   "cell_type": "markdown",
   "metadata": {},
   "source": [
    "online version: <a href=\"https://github.com/czylabsonasa/jozso\">https://github.com/czylabsonasa/jozso</a>"
   ]
  },
  {
   "cell_type": "markdown",
   "metadata": {},
   "source": [
    "# READ.ME\n",
    "**JOZSO**: a program for calculating broad neutron resonances"
   ]
  },
  {
   "cell_type": "markdown",
   "metadata": {},
   "source": [
    "## Prerequisites:\n",
    "* GNU gfortran compiler and GNU make\n",
    "* *optionally* GNU octave\n",
    "\n",
    "These are fairly standard packages/programs available on all major Linux distribitions."
   ]
  },
  {
   "cell_type": "markdown",
   "metadata": {},
   "source": [
    "## Installation\n",
    "* simply extract the supplied zip file to a desired location"
   ]
  },
  {
   "cell_type": "markdown",
   "metadata": {},
   "source": [
    "## Directory structure\n",
    "```\n",
    "JOZSO\n",
    "├── dat\n",
    "│   └── extformf.dat\n",
    "├── log\n",
    "├── obj\n",
    "├── res\n",
    "│   ├── maprajz.m\n",
    "│   └── trajz.m\n",
    "├── src\n",
    "│   ├── jozso.f90\n",
    "│   └── odeint.f90 !note that, it is not shipped with JOZSO\n",
    "├── cgws.config\n",
    "├── dev.config\n",
    "├── ext.config\n",
    "├── makefile\n",
    "├── sahu.config\n",
    "└── user.config\n",
    "```"
   ]
  },
  {
   "cell_type": "markdown",
   "metadata": {},
   "source": [
    "## Short description of files\n",
    "* the file **dat/extformf.dat** consists the parameters used for defining a custom potential\n",
    "* the **log** directory is for log files created by **jozso**\n",
    "* the **obj** directory is used to store the **.mod** files created by the compiler\n",
    "* **jozso** will place all the output files into directory **res**\n",
    "    * you also find here two small octave scripts, which can be used to quickly\n",
    "    generate plots from the results:\n",
    "        * in the directory **res** the command 'octave -f maprajz.m' will result the file 'map.eps' (after a mode=1 run)\n",
    "        * in the directory **res** the command 'octave -f trajz.m' will result the file 'ktraj.eps' after a mode=2 run\n",
    "* **src**: source code of the main program. You should place here a copy of odeint from *Numerical Recipes*.\n",
    "* the **makefile** controls the compilation\n"
   ]
  },
  {
   "cell_type": "markdown",
   "metadata": {},
   "source": [
    "## Config files\n",
    "According to the used potential type, the program's behaviour can be controlled through the following config files:\n",
    "* cgws.conf: for parameters controlling Wood-Saxon type potential\n",
    "* sahu.conf: for parameters controlling Sahu type potential\n",
    "* ext.conf: for parameters controlling Wood-Saxon type potential\n",
    "\n",
    "A comprehesive description of the parameters used can be found in the chapter 3 of<br>\n",
    "<a href=\"http://arxiv.org/abs/1711.04619\">http://arxiv.org/abs/1711.04619</a>\n",
    "\n",
    "* user.conf \n",
    "    * here you can change the default names of data,result,log and config \n",
    "    files\n",
    "* dev.conf\n",
    "    * internal constant used during the development: do not touch it"
   ]
  },
  {
   "cell_type": "markdown",
   "metadata": {},
   "source": [
    "## Compiling\n",
    "\n",
    "In the *JOZSO* directory issue the following commands:\n",
    "```shell\n",
    "make clean; make\n",
    "```\n",
    "You should not get any errors (warnings are possible, due to different gfortran configurations).\n"
   ]
  },
  {
   "cell_type": "markdown",
   "metadata": {},
   "source": [
    "## Executing\n",
    "In the **JOZSO** directory issue:\n",
    "```\n",
    "./jozso\n",
    "```\n",
    "\n",
    "optional parameter can be passed to the program:\n",
    "* **-h** for getting a short help message\n",
    "* **-1** *or* **-cgws** for chosing Wood-Saxon potential, it is the **default**\n",
    "* **-2** *or* **-sahu** for Sahu-type potential\n",
    "* **-4** *or* **-ext** for external, custom potential"
   ]
  },
  {
   "cell_type": "markdown",
   "metadata": {},
   "source": [
    "## Troubleshooting\n",
    "If you are encountering problems, bugs please contact:  <br>\n",
    "<a href=\"mailto:noszaly.csaba@gmail.com\">noszaly.csaba@gmail.com</a>"
   ]
  }
 ],
 "metadata": {
  "kernelspec": {
   "display_name": "Python 3",
   "language": "python",
   "name": "python3"
  },
  "language_info": {
   "codemirror_mode": {
    "name": "ipython",
    "version": 3
   },
   "file_extension": ".py",
   "mimetype": "text/x-python",
   "name": "python",
   "nbconvert_exporter": "python",
   "pygments_lexer": "ipython3",
   "version": "3.5.3"
  }
 },
 "nbformat": 4,
 "nbformat_minor": 2
}
